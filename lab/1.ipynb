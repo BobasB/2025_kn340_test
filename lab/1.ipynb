{
 "cells": [
  {
   "cell_type": "markdown",
   "id": "1bf56bc3",
   "metadata": {},
   "source": [
    "## Базові перевірки/твердження assert"
   ]
  },
  {
   "cell_type": "code",
   "execution_count": null,
   "id": "81f85f90",
   "metadata": {},
   "outputs": [],
   "source": [
    "a = input(\"Введіть число:\")\n",
    "assert a.isdigit(), \"Введено не число\"\n",
    "print(f\"Введено: {a}\")"
   ]
  },
  {
   "cell_type": "code",
   "execution_count": null,
   "id": "33960f1e",
   "metadata": {},
   "outputs": [],
   "source": [
    "b = input(\"Введіть слово українською мовою:\")\n",
    "import re\n",
    "\n",
    "if bool(re.fullmatch(r\"[А-Яа-яІіЇїЄєҐґ]+\", b)):\n",
    "    print(\"Молодець що спілкуєшся українською\")\n",
    "else:\n",
    "    raise AssertionError(\"Ми просили спілкуватись українською\")"
   ]
  },
  {
   "cell_type": "markdown",
   "id": "8b9eef99",
   "metadata": {},
   "source": [
    "# Приклад реального життя\n",
    "- просумувати можна лише числа у списку але не одне число"
   ]
  },
  {
   "cell_type": "code",
   "execution_count": null,
   "id": "00b799da",
   "metadata": {},
   "outputs": [],
   "source": [
    "ll = [1]\n",
    "isinstance(ll, list)\n",
    "\n",
    "#sum(1) # Це буде помилка, одне число не можна просумувати\n",
    "sum([1])  # Одне число але у списку сумувати можна, все працює"
   ]
  },
  {
   "cell_type": "code",
   "execution_count": null,
   "id": "cd965168",
   "metadata": {},
   "outputs": [],
   "source": [
    "from typing import Any, List\n",
    "def my_fun(a: Any):\n",
    "    #assert isinstance(a, Any), \"а має бути ціле число\"\n",
    "    print(f\"Передано {a} яке має тип {type(a)}\")\n",
    "\n",
    "#my_fun() # TypeError: my_fun() missing 1 required positional argument: 'a'\n",
    "my_fun(\"5\")\n",
    "my_fun(\"sdfs\")\n",
    "\n"
   ]
  },
  {
   "cell_type": "markdown",
   "id": "d8dad767",
   "metadata": {},
   "source": [
    "- використання різних певірок разом з твердженнями"
   ]
  },
  {
   "cell_type": "code",
   "execution_count": null,
   "id": "f6ae2cac",
   "metadata": {},
   "outputs": [],
   "source": [
    "n1 = 2\n",
    "max_number = 3\n",
    "assert n1 < max_number, f\"n1={n1} має бути менше {max_number}\"\n",
    "assert n1 == 2, f\"n1={n1} має бути рівне 2\"\n",
    "assert n1 != 5, f\"n1={n1} не має бути рівне 5\"\n",
    "\n",
    "n2 = 2.0\n",
    "assert n1 == n2\n",
    "# тут буде помилка бо порівнюється різні обєкти в памяті\n",
    "# AssertionError: n1=2 і n2=2.0 мають бути одним обєктом в памяті\n",
    "# assert n1 is n2, f\"n1={n1} і n2={n2} мають бути одним обєктом в памяті\""
   ]
  },
  {
   "cell_type": "code",
   "execution_count": null,
   "id": "ae6d681f",
   "metadata": {},
   "outputs": [],
   "source": [
    "class TheNumber:\n",
    "    def __init__(self, n):\n",
    "        self.n = n\n",
    "\n",
    "\n",
    "num1 = TheNumber(5)\n",
    "num2 = TheNumber(5)\n",
    "\n",
    "assert num1 is num2, \"нерівність обєктів в памяті\""
   ]
  },
  {
   "cell_type": "code",
   "execution_count": null,
   "id": "65e86982",
   "metadata": {},
   "outputs": [],
   "source": [
    "def my_always_fail() -> bool:\n",
    "    for i in range(10):\n",
    "        print(i)\n",
    "    return i > 10 # \"Ця функція завжди  повертає False\"\n",
    "\n",
    "assert my_always_fail(), \"Функція має повертати True\""
   ]
  },
  {
   "cell_type": "code",
   "execution_count": null,
   "id": "445c9baf",
   "metadata": {},
   "outputs": [],
   "source": [
    "import math\n",
    "ll = [-1, -2, 0]\n",
    "# перевіряємо чи з набору чисел можна отримати їх корені\n",
    "assert [math.sqrt(i) for i in ll if i > 1], \"Перевірка квадратів чисел\""
   ]
  },
  {
   "cell_type": "code",
   "execution_count": null,
   "id": "09a0c85b",
   "metadata": {},
   "outputs": [],
   "source": [
    "math.sqrt(-4)"
   ]
  },
  {
   "cell_type": "markdown",
   "id": "70537be0",
   "metadata": {},
   "source": [
    "- перевірка на АПІ, приклад коли в одній версії такий функціонал існує а в наступній версії вже ні"
   ]
  },
  {
   "cell_type": "code",
   "execution_count": null,
   "id": "d63b7a66",
   "metadata": {},
   "outputs": [],
   "source": [
    "dd = {\"a\": 1, \"b\": 2}\n",
    "assert \"c\" in dd, \"Перевірка наявності ключа в словнику\"\n",
    "print(dd[\"c\"])"
   ]
  },
  {
   "cell_type": "code",
   "execution_count": null,
   "id": "654a83d2",
   "metadata": {},
   "outputs": [],
   "source": [
    "s = \"Це стрічка\"\n",
    "s.islower()\n",
    "\n",
    "assert \"богДан\".lower() == \"Богдан\".lower()  # NameError: name 'богДан' is not defined"
   ]
  },
  {
   "cell_type": "markdown",
   "id": "ad77ad43",
   "metadata": {},
   "source": [
    "assert — це універсальний інструмент, яким можна перевіряти:\n",
    "\n",
    "рівність / нерівність\n",
    "\n",
    "членство у колекціях\n",
    "\n",
    "типи даних\n",
    "\n",
    "властивості чисел\n",
    "\n",
    "стан бізнес-логіки\n",
    "\n",
    "поведінку функцій\n",
    "\n",
    "навіть правильність роботи обчислень з похибкою"
   ]
  },
  {
   "cell_type": "markdown",
   "id": "97db7d12",
   "metadata": {},
   "source": [
    "## Створюємо гру Вгадай слово\n",
    "- задано масив слів, і випадково вибирається одне з них\n",
    "- ми маємо вгадати слово вводячи букви\n",
    "- в нас є певна кількість спроб щоб вгадати"
   ]
  },
  {
   "cell_type": "code",
   "execution_count": 16,
   "id": "52b07595",
   "metadata": {},
   "outputs": [
    {
     "name": "stdout",
     "output_type": "stream",
     "text": [
      "Введені значення: {''} \n",
      "Результат: *****\n",
      "Введені значення: {''} \n",
      "Результат: *****\n",
      "Введені значення: {''} \n",
      "Результат: *****\n",
      "Введені значення: {''} \n",
      "Результат: *****\n",
      "Введені значення: {''} \n",
      "Результат: *****\n",
      "Введені значення: {''} \n",
      "Результат: *****\n",
      "Введені значення: {''} \n",
      "Результат: *****\n",
      "Введені значення: {''} \n",
      "Результат: *****\n",
      "Ви програли!\n",
      "Гра завершена. Загадане слово було: apple\n"
     ]
    }
   ],
   "source": [
    "from random import choice\n",
    "from typing import List, Set\n",
    "\n",
    "WORDS = [\"apple\", \"banana\", \"python\", \"orange\"]\n",
    "\n",
    "def choose_secret_word(words: List[str]) -> str:\n",
    "    return choice(words)\n",
    "\n",
    "def enter_letter_from_user()-> str:\n",
    "    letter = str(input(\"Введіть одну літеру: \"))\n",
    "    return letter.lower()\n",
    "\n",
    "def check_letters_in_word(letters: Set[str], word: str) -> str:\n",
    "    return \"\".join([l if l in letters else \"*\" for l in word])\n",
    "\n",
    "def check_if_word_guessed(letters: Set[str], word: str) -> bool:\n",
    "    return all(l in letters for l in word)\n",
    "\n",
    "def main():\n",
    "    secret_word = choose_secret_word(WORDS)\n",
    "    #print(f\"Загадане слово: {secret_word}\")\n",
    "    entered_user_letters = set()\n",
    "    for _ in range(len(secret_word) + 3):\n",
    "        entered_user_letters.add(enter_letter_from_user())\n",
    "        result = check_letters_in_word(entered_user_letters, secret_word)\n",
    "        print(f\"Введені значення: {entered_user_letters} \\nРезультат: {result}\")\n",
    "        if check_if_word_guessed(entered_user_letters, secret_word):\n",
    "            print(\"Ви вгадали слово!\")\n",
    "            break\n",
    "    if not check_if_word_guessed(entered_user_letters, secret_word):\n",
    "        print(\"Ви програли!\")\n",
    "    print(f\"Гра завершена. Загадане слово було: {secret_word}\")\n",
    "\n",
    "if __name__ == \"__main__\":\n",
    "    main()"
   ]
  },
  {
   "cell_type": "code",
   "execution_count": 15,
   "id": "8aba596c",
   "metadata": {},
   "outputs": [
    {
     "name": "stdout",
     "output_type": "stream",
     "text": [
      "ok\n"
     ]
    },
    {
     "data": {
      "text/plain": [
       "{'a', 'e', 'l', 'p'}"
      ]
     },
     "execution_count": 15,
     "metadata": {},
     "output_type": "execute_result"
    }
   ],
   "source": [
    "a = set()\n",
    "a.add(5)\n",
    "a.add(\"a\")\n",
    "if 'a' in a:\n",
    "    print(\"ok\")\n",
    "\n",
    "test_word = 'apple'\n",
    "set(test_word)"
   ]
  },
  {
   "cell_type": "markdown",
   "id": "fd30c231",
   "metadata": {},
   "source": [
    "- кожна функція тест кейсу має починатись з `test_`"
   ]
  },
  {
   "cell_type": "code",
   "execution_count": null,
   "id": "19775e01",
   "metadata": {},
   "outputs": [],
   "source": [
    "import unittest\n",
    "\n",
    "class TestWordChoice(unittest.TestCase):\n",
    "    def test_choose_secret_word(self):\n",
    "        self.assertIn(choose_secret_word(WORDS), WORDS)\n",
    "\n",
    "if __name__ == \"__main__\":\n",
    "    unittest.main()\n"
   ]
  },
  {
   "cell_type": "markdown",
   "id": "f42f4ec8",
   "metadata": {},
   "source": [
    "# Використання PyTest\n",
    "- встановили та запустили існуючі тести unittest\n",
    "- написати додаткові тести\n",
    "- розбили на модулі\n",
    "- посунули всі тести у папку test\n",
    "- треба віртуальне середовище та розібратись з модулями"
   ]
  }
 ],
 "metadata": {
  "kernelspec": {
   "display_name": "Python 3",
   "language": "python",
   "name": "python3"
  },
  "language_info": {
   "codemirror_mode": {
    "name": "ipython",
    "version": 3
   },
   "file_extension": ".py",
   "mimetype": "text/x-python",
   "name": "python",
   "nbconvert_exporter": "python",
   "pygments_lexer": "ipython3",
   "version": "3.12.9"
  }
 },
 "nbformat": 4,
 "nbformat_minor": 5
}
