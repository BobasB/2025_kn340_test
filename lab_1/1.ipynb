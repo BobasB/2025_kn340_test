{
 "cells": [
  {
   "cell_type": "markdown",
   "id": "1bf56bc3",
   "metadata": {},
   "source": [
    "## Базові перевірки/твердження assert"
   ]
  },
  {
   "cell_type": "code",
   "execution_count": 1,
   "id": "81f85f90",
   "metadata": {},
   "outputs": [
    {
     "ename": "KeyboardInterrupt",
     "evalue": "Interrupted by user",
     "output_type": "error",
     "traceback": [
      "\u001b[31m---------------------------------------------------------------------------\u001b[39m",
      "\u001b[31mKeyboardInterrupt\u001b[39m                         Traceback (most recent call last)",
      "\u001b[36mCell\u001b[39m\u001b[36m \u001b[39m\u001b[32mIn[1]\u001b[39m\u001b[32m, line 1\u001b[39m\n\u001b[32m----> \u001b[39m\u001b[32m1\u001b[39m a = \u001b[38;5;28;43minput\u001b[39;49m\u001b[43m(\u001b[49m\u001b[33;43m\"\u001b[39;49m\u001b[33;43mВведіть число:\u001b[39;49m\u001b[33;43m\"\u001b[39;49m\u001b[43m)\u001b[49m\n\u001b[32m      2\u001b[39m \u001b[38;5;28;01massert\u001b[39;00m a.isdigit(), \u001b[33m\"\u001b[39m\u001b[33mВведено не число\u001b[39m\u001b[33m\"\u001b[39m\n\u001b[32m      3\u001b[39m \u001b[38;5;28mprint\u001b[39m(\u001b[33mf\u001b[39m\u001b[33m\"\u001b[39m\u001b[33mВведено: \u001b[39m\u001b[38;5;132;01m{\u001b[39;00ma\u001b[38;5;132;01m}\u001b[39;00m\u001b[33m\"\u001b[39m)\n",
      "\u001b[36mFile \u001b[39m\u001b[32m~/.pyenv/versions/3.12.9/lib/python3.12/site-packages/ipykernel/kernelbase.py:1282\u001b[39m, in \u001b[36mKernel.raw_input\u001b[39m\u001b[34m(self, prompt)\u001b[39m\n\u001b[32m   1280\u001b[39m     msg = \u001b[33m\"\u001b[39m\u001b[33mraw_input was called, but this frontend does not support input requests.\u001b[39m\u001b[33m\"\u001b[39m\n\u001b[32m   1281\u001b[39m     \u001b[38;5;28;01mraise\u001b[39;00m StdinNotImplementedError(msg)\n\u001b[32m-> \u001b[39m\u001b[32m1282\u001b[39m \u001b[38;5;28;01mreturn\u001b[39;00m \u001b[38;5;28;43mself\u001b[39;49m\u001b[43m.\u001b[49m\u001b[43m_input_request\u001b[49m\u001b[43m(\u001b[49m\n\u001b[32m   1283\u001b[39m \u001b[43m    \u001b[49m\u001b[38;5;28;43mstr\u001b[39;49m\u001b[43m(\u001b[49m\u001b[43mprompt\u001b[49m\u001b[43m)\u001b[49m\u001b[43m,\u001b[49m\n\u001b[32m   1284\u001b[39m \u001b[43m    \u001b[49m\u001b[38;5;28;43mself\u001b[39;49m\u001b[43m.\u001b[49m\u001b[43m_parent_ident\u001b[49m\u001b[43m[\u001b[49m\u001b[33;43m\"\u001b[39;49m\u001b[33;43mshell\u001b[39;49m\u001b[33;43m\"\u001b[39;49m\u001b[43m]\u001b[49m\u001b[43m,\u001b[49m\n\u001b[32m   1285\u001b[39m \u001b[43m    \u001b[49m\u001b[38;5;28;43mself\u001b[39;49m\u001b[43m.\u001b[49m\u001b[43mget_parent\u001b[49m\u001b[43m(\u001b[49m\u001b[33;43m\"\u001b[39;49m\u001b[33;43mshell\u001b[39;49m\u001b[33;43m\"\u001b[39;49m\u001b[43m)\u001b[49m\u001b[43m,\u001b[49m\n\u001b[32m   1286\u001b[39m \u001b[43m    \u001b[49m\u001b[43mpassword\u001b[49m\u001b[43m=\u001b[49m\u001b[38;5;28;43;01mFalse\u001b[39;49;00m\u001b[43m,\u001b[49m\n\u001b[32m   1287\u001b[39m \u001b[43m\u001b[49m\u001b[43m)\u001b[49m\n",
      "\u001b[36mFile \u001b[39m\u001b[32m~/.pyenv/versions/3.12.9/lib/python3.12/site-packages/ipykernel/kernelbase.py:1325\u001b[39m, in \u001b[36mKernel._input_request\u001b[39m\u001b[34m(self, prompt, ident, parent, password)\u001b[39m\n\u001b[32m   1322\u001b[39m \u001b[38;5;28;01mexcept\u001b[39;00m \u001b[38;5;167;01mKeyboardInterrupt\u001b[39;00m:\n\u001b[32m   1323\u001b[39m     \u001b[38;5;66;03m# re-raise KeyboardInterrupt, to truncate traceback\u001b[39;00m\n\u001b[32m   1324\u001b[39m     msg = \u001b[33m\"\u001b[39m\u001b[33mInterrupted by user\u001b[39m\u001b[33m\"\u001b[39m\n\u001b[32m-> \u001b[39m\u001b[32m1325\u001b[39m     \u001b[38;5;28;01mraise\u001b[39;00m \u001b[38;5;167;01mKeyboardInterrupt\u001b[39;00m(msg) \u001b[38;5;28;01mfrom\u001b[39;00m\u001b[38;5;250m \u001b[39m\u001b[38;5;28;01mNone\u001b[39;00m\n\u001b[32m   1326\u001b[39m \u001b[38;5;28;01mexcept\u001b[39;00m \u001b[38;5;167;01mException\u001b[39;00m:\n\u001b[32m   1327\u001b[39m     \u001b[38;5;28mself\u001b[39m.log.warning(\u001b[33m\"\u001b[39m\u001b[33mInvalid Message:\u001b[39m\u001b[33m\"\u001b[39m, exc_info=\u001b[38;5;28;01mTrue\u001b[39;00m)\n",
      "\u001b[31mKeyboardInterrupt\u001b[39m: Interrupted by user"
     ]
    }
   ],
   "source": [
    "a = input(\"Введіть число:\")\n",
    "assert a.isdigit(), \"Введено не число\"\n",
    "print(f\"Введено: {a}\")"
   ]
  },
  {
   "cell_type": "code",
   "execution_count": null,
   "id": "33960f1e",
   "metadata": {},
   "outputs": [
    {
     "name": "stdout",
     "output_type": "stream",
     "text": [
      "Молодець що спілкуєшся українською\n"
     ]
    }
   ],
   "source": [
    "b = input(\"Введіть слово українською мовою:\")\n",
    "import re\n",
    "\n",
    "if bool(re.fullmatch(r\"[А-Яа-яІіЇїЄєҐґ]+\", b)):\n",
    "    print(\"Молодець що спілкуєшся українською\")\n",
    "else:\n",
    "    raise AssertionError(\"Ми просили спілкуватись українською\")"
   ]
  },
  {
   "cell_type": "markdown",
   "id": "8b9eef99",
   "metadata": {},
   "source": [
    "# Приклад реального життя\n",
    "- просумувати можна лише числа у списку але не одне число"
   ]
  },
  {
   "cell_type": "code",
   "execution_count": null,
   "id": "00b799da",
   "metadata": {},
   "outputs": [
    {
     "data": {
      "text/plain": [
       "1"
      ]
     },
     "execution_count": 11,
     "metadata": {},
     "output_type": "execute_result"
    }
   ],
   "source": [
    "ll = [1]\n",
    "isinstance(ll, list)\n",
    "\n",
    "#sum(1) # Це буде помилка, одне число не можна просумувати\n",
    "sum([1])  # Одне число але у списку сумувати можна, все працює"
   ]
  },
  {
   "cell_type": "code",
   "execution_count": null,
   "id": "cd965168",
   "metadata": {},
   "outputs": [
    {
     "name": "stdout",
     "output_type": "stream",
     "text": [
      "Передано 5 яке має тип <class 'str'>\n"
     ]
    }
   ],
   "source": [
    "from typing import Any, List\n",
    "def my_fun(a: Any):\n",
    "    #assert isinstance(a, Any), \"а має бути ціле число\"\n",
    "    print(f\"Передано {a} яке має тип {type(a)}\")\n",
    "\n",
    "#my_fun() # TypeError: my_fun() missing 1 required positional argument: 'a'\n",
    "my_fun(\"5\")\n",
    "my_fun(\"sdfs\")\n",
    "\n"
   ]
  },
  {
   "cell_type": "markdown",
   "id": "d8dad767",
   "metadata": {},
   "source": [
    "- використання різних певірок разом з твердженнями"
   ]
  },
  {
   "cell_type": "code",
   "execution_count": null,
   "id": "f6ae2cac",
   "metadata": {},
   "outputs": [
    {
     "ename": "AssertionError",
     "evalue": "нерівність обєктів в памяті",
     "output_type": "error",
     "traceback": [
      "\u001b[31m---------------------------------------------------------------------------\u001b[39m",
      "\u001b[31mAssertionError\u001b[39m                            Traceback (most recent call last)",
      "\u001b[36mCell\u001b[39m\u001b[36m \u001b[39m\u001b[32mIn[14]\u001b[39m\u001b[32m, line 20\u001b[39m\n\u001b[32m     17\u001b[39m num1 = TheNumber(\u001b[32m5\u001b[39m)\n\u001b[32m     18\u001b[39m num2 = TheNumber(\u001b[32m5\u001b[39m)\n\u001b[32m---> \u001b[39m\u001b[32m20\u001b[39m \u001b[38;5;28;01massert\u001b[39;00m num1 \u001b[38;5;129;01mis\u001b[39;00m num2, \u001b[33m\"\u001b[39m\u001b[33mнерівність обєктів в памяті\u001b[39m\u001b[33m\"\u001b[39m\n",
      "\u001b[31mAssertionError\u001b[39m: нерівність обєктів в памяті"
     ]
    }
   ],
   "source": [
    "n1 = 2\n",
    "max_number = 3\n",
    "assert n1 < max_number, f\"n1={n1} має бути менше {max_number}\"\n",
    "assert n1 == 2, f\"n1={n1} має бути рівне 2\"\n",
    "assert n1 != 5, f\"n1={n1} не має бути рівне 5\"\n",
    "\n",
    "n2 = 2.0\n",
    "assert n1 == n2\n",
    "# тут буде помилка бо порівнюється різні обєкти в памяті\n",
    "# AssertionError: n1=2 і n2=2.0 мають бути одним обєктом в памяті\n",
    "# assert n1 is n2, f\"n1={n1} і n2={n2} мають бути одним обєктом в памяті\""
   ]
  },
  {
   "cell_type": "code",
   "execution_count": 15,
   "id": "ae6d681f",
   "metadata": {},
   "outputs": [
    {
     "ename": "AssertionError",
     "evalue": "нерівність обєктів в памяті",
     "output_type": "error",
     "traceback": [
      "\u001b[31m---------------------------------------------------------------------------\u001b[39m",
      "\u001b[31mAssertionError\u001b[39m                            Traceback (most recent call last)",
      "\u001b[36mCell\u001b[39m\u001b[36m \u001b[39m\u001b[32mIn[15]\u001b[39m\u001b[32m, line 9\u001b[39m\n\u001b[32m      6\u001b[39m num1 = TheNumber(\u001b[32m5\u001b[39m)\n\u001b[32m      7\u001b[39m num2 = TheNumber(\u001b[32m5\u001b[39m)\n\u001b[32m----> \u001b[39m\u001b[32m9\u001b[39m \u001b[38;5;28;01massert\u001b[39;00m num1 \u001b[38;5;129;01mis\u001b[39;00m num2, \u001b[33m\"\u001b[39m\u001b[33mнерівність обєктів в памяті\u001b[39m\u001b[33m\"\u001b[39m\n",
      "\u001b[31mAssertionError\u001b[39m: нерівність обєктів в памяті"
     ]
    }
   ],
   "source": [
    "class TheNumber:\n",
    "    def __init__(self, n):\n",
    "        self.n = n\n",
    "\n",
    "\n",
    "num1 = TheNumber(5)\n",
    "num2 = TheNumber(5)\n",
    "\n",
    "assert num1 is num2, \"нерівність обєктів в памяті\""
   ]
  },
  {
   "cell_type": "code",
   "execution_count": 18,
   "id": "65e86982",
   "metadata": {},
   "outputs": [
    {
     "name": "stdout",
     "output_type": "stream",
     "text": [
      "0\n",
      "1\n",
      "2\n",
      "3\n",
      "4\n",
      "5\n",
      "6\n",
      "7\n",
      "8\n",
      "9\n"
     ]
    },
    {
     "ename": "AssertionError",
     "evalue": "Функція має повертати True",
     "output_type": "error",
     "traceback": [
      "\u001b[31m---------------------------------------------------------------------------\u001b[39m",
      "\u001b[31mAssertionError\u001b[39m                            Traceback (most recent call last)",
      "\u001b[36mCell\u001b[39m\u001b[36m \u001b[39m\u001b[32mIn[18]\u001b[39m\u001b[32m, line 6\u001b[39m\n\u001b[32m      3\u001b[39m         \u001b[38;5;28mprint\u001b[39m(i)\n\u001b[32m      4\u001b[39m     \u001b[38;5;28;01mreturn\u001b[39;00m i > \u001b[32m10\u001b[39m \u001b[38;5;66;03m# \"Ця функція завжди  повертає False\"\u001b[39;00m\n\u001b[32m----> \u001b[39m\u001b[32m6\u001b[39m \u001b[38;5;28;01massert\u001b[39;00m my_always_fail(), \u001b[33m\"\u001b[39m\u001b[33mФункція має повертати True\u001b[39m\u001b[33m\"\u001b[39m\n",
      "\u001b[31mAssertionError\u001b[39m: Функція має повертати True"
     ]
    }
   ],
   "source": [
    "def my_always_fail() -> bool:\n",
    "    for i in range(10):\n",
    "        print(i)\n",
    "    return i > 10 # \"Ця функція завжди  повертає False\"\n",
    "\n",
    "assert my_always_fail(), \"Функція має повертати True\""
   ]
  },
  {
   "cell_type": "code",
   "execution_count": 21,
   "id": "445c9baf",
   "metadata": {},
   "outputs": [
    {
     "ename": "AssertionError",
     "evalue": "Перевірка квадратів чисел",
     "output_type": "error",
     "traceback": [
      "\u001b[31m---------------------------------------------------------------------------\u001b[39m",
      "\u001b[31mAssertionError\u001b[39m                            Traceback (most recent call last)",
      "\u001b[36mCell\u001b[39m\u001b[36m \u001b[39m\u001b[32mIn[21]\u001b[39m\u001b[32m, line 4\u001b[39m\n\u001b[32m      2\u001b[39m ll = [-\u001b[32m1\u001b[39m, -\u001b[32m2\u001b[39m, \u001b[32m0\u001b[39m]\n\u001b[32m      3\u001b[39m \u001b[38;5;66;03m# перевіряємо чи з набору чисел можна отримати їх корені\u001b[39;00m\n\u001b[32m----> \u001b[39m\u001b[32m4\u001b[39m \u001b[38;5;28;01massert\u001b[39;00m [math.sqrt(i) \u001b[38;5;28;01mfor\u001b[39;00m i \u001b[38;5;129;01min\u001b[39;00m ll \u001b[38;5;28;01mif\u001b[39;00m i > \u001b[32m1\u001b[39m], \u001b[33m\"\u001b[39m\u001b[33mПеревірка квадратів чисел\u001b[39m\u001b[33m\"\u001b[39m\n",
      "\u001b[31mAssertionError\u001b[39m: Перевірка квадратів чисел"
     ]
    }
   ],
   "source": [
    "import math\n",
    "ll = [-1, -2, 0]\n",
    "# перевіряємо чи з набору чисел можна отримати їх корені\n",
    "assert [math.sqrt(i) for i in ll if i > 1], \"Перевірка квадратів чисел\""
   ]
  },
  {
   "cell_type": "code",
   "execution_count": 22,
   "id": "09a0c85b",
   "metadata": {},
   "outputs": [
    {
     "ename": "ValueError",
     "evalue": "math domain error",
     "output_type": "error",
     "traceback": [
      "\u001b[31m---------------------------------------------------------------------------\u001b[39m",
      "\u001b[31mValueError\u001b[39m                                Traceback (most recent call last)",
      "\u001b[36mCell\u001b[39m\u001b[36m \u001b[39m\u001b[32mIn[22]\u001b[39m\u001b[32m, line 1\u001b[39m\n\u001b[32m----> \u001b[39m\u001b[32m1\u001b[39m \u001b[43mmath\u001b[49m\u001b[43m.\u001b[49m\u001b[43msqrt\u001b[49m\u001b[43m(\u001b[49m\u001b[43m-\u001b[49m\u001b[32;43m4\u001b[39;49m\u001b[43m)\u001b[49m\n",
      "\u001b[31mValueError\u001b[39m: math domain error"
     ]
    }
   ],
   "source": [
    "math.sqrt(-4)"
   ]
  },
  {
   "cell_type": "markdown",
   "id": "70537be0",
   "metadata": {},
   "source": [
    "- перевірка на АПІ, приклад коли в одній версії такий функціонал існує а в наступній версії вже ні"
   ]
  },
  {
   "cell_type": "code",
   "execution_count": 26,
   "id": "d63b7a66",
   "metadata": {},
   "outputs": [
    {
     "ename": "AssertionError",
     "evalue": "Перевірка наявності ключа в словнику",
     "output_type": "error",
     "traceback": [
      "\u001b[31m---------------------------------------------------------------------------\u001b[39m",
      "\u001b[31mAssertionError\u001b[39m                            Traceback (most recent call last)",
      "\u001b[36mCell\u001b[39m\u001b[36m \u001b[39m\u001b[32mIn[26]\u001b[39m\u001b[32m, line 2\u001b[39m\n\u001b[32m      1\u001b[39m dd = {\u001b[33m\"\u001b[39m\u001b[33ma\u001b[39m\u001b[33m\"\u001b[39m: \u001b[32m1\u001b[39m, \u001b[33m\"\u001b[39m\u001b[33mb\u001b[39m\u001b[33m\"\u001b[39m: \u001b[32m2\u001b[39m}\n\u001b[32m----> \u001b[39m\u001b[32m2\u001b[39m \u001b[38;5;28;01massert\u001b[39;00m \u001b[33m\"\u001b[39m\u001b[33mc\u001b[39m\u001b[33m\"\u001b[39m \u001b[38;5;129;01min\u001b[39;00m dd, \u001b[33m\"\u001b[39m\u001b[33mПеревірка наявності ключа в словнику\u001b[39m\u001b[33m\"\u001b[39m\n\u001b[32m      3\u001b[39m \u001b[38;5;28mprint\u001b[39m(dd[\u001b[33m\"\u001b[39m\u001b[33mc\u001b[39m\u001b[33m\"\u001b[39m])\n",
      "\u001b[31mAssertionError\u001b[39m: Перевірка наявності ключа в словнику"
     ]
    }
   ],
   "source": [
    "dd = {\"a\": 1, \"b\": 2}\n",
    "assert \"c\" in dd, \"Перевірка наявності ключа в словнику\"\n",
    "print(dd[\"c\"])"
   ]
  },
  {
   "cell_type": "code",
   "execution_count": 29,
   "id": "654a83d2",
   "metadata": {},
   "outputs": [],
   "source": [
    "s = \"Це стрічка\"\n",
    "s.islower()\n",
    "\n",
    "assert \"богДан\".lower() == \"Богдан\".lower()  # NameError: name 'богДан' is not defined"
   ]
  },
  {
   "cell_type": "markdown",
   "id": "ad77ad43",
   "metadata": {},
   "source": [
    "assert — це універсальний інструмент, яким можна перевіряти:\n",
    "\n",
    "рівність / нерівність\n",
    "\n",
    "членство у колекціях\n",
    "\n",
    "типи даних\n",
    "\n",
    "властивості чисел\n",
    "\n",
    "стан бізнес-логіки\n",
    "\n",
    "поведінку функцій\n",
    "\n",
    "навіть правильність роботи обчислень з похибкою"
   ]
  }
 ],
 "metadata": {
  "kernelspec": {
   "display_name": "Python 3",
   "language": "python",
   "name": "python3"
  },
  "language_info": {
   "codemirror_mode": {
    "name": "ipython",
    "version": 3
   },
   "file_extension": ".py",
   "mimetype": "text/x-python",
   "name": "python",
   "nbconvert_exporter": "python",
   "pygments_lexer": "ipython3",
   "version": "3.12.9"
  }
 },
 "nbformat": 4,
 "nbformat_minor": 5
}
