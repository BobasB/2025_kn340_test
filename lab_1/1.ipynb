{
 "cells": [
  {
   "cell_type": "code",
   "execution_count": 6,
   "id": "81f85f90",
   "metadata": {},
   "outputs": [
    {
     "name": "stdout",
     "output_type": "stream",
     "text": [
      "Введено: 1\n"
     ]
    }
   ],
   "source": [
    "a = input(\"Введіть число:\")\n",
    "assert a.isdigit(), \"Введено не число\"\n",
    "print(f\"Введено: {a}\")"
   ]
  },
  {
   "cell_type": "code",
   "execution_count": 6,
   "id": "33960f1e",
   "metadata": {},
   "outputs": [
    {
     "name": "stdout",
     "output_type": "stream",
     "text": [
      "Молодець що спілкуєшся українською\n"
     ]
    }
   ],
   "source": [
    "b = input(\"Введіть слово українською мовою:\")\n",
    "import re\n",
    "\n",
    "if bool(re.fullmatch(r\"[А-Яа-яІіЇїЄєҐґ]+\", b)):\n",
    "    print(\"Молодець що спілкуєшся українською\")\n",
    "else:\n",
    "    raise AssertionError(\"Ми просили спілкуватись українською\")"
   ]
  },
  {
   "cell_type": "markdown",
   "id": "8b9eef99",
   "metadata": {},
   "source": [
    "# Приклад реального життя\n",
    "- просумувати можна лише числа у списку але не одне число"
   ]
  },
  {
   "cell_type": "code",
   "execution_count": null,
   "id": "00b799da",
   "metadata": {},
   "outputs": [
    {
     "data": {
      "text/plain": [
       "1"
      ]
     },
     "execution_count": 11,
     "metadata": {},
     "output_type": "execute_result"
    }
   ],
   "source": [
    "ll = [1]\n",
    "isinstance(ll, list)\n",
    "\n",
    "#sum(1) # Це буде помилка, одне число не можна просумувати\n",
    "sum([1])  # Одне число але у списку сумувати можна, все працює"
   ]
  },
  {
   "cell_type": "code",
   "execution_count": null,
   "id": "cd965168",
   "metadata": {},
   "outputs": [
    {
     "name": "stdout",
     "output_type": "stream",
     "text": [
      "Передано 5 яке має тип <class 'str'>\n"
     ]
    }
   ],
   "source": [
    "from typing import Any, List\n",
    "def my_fun(a: Any):\n",
    "    #assert isinstance(a, Any), \"а має бути ціле число\"\n",
    "    print(f\"Передано {a} яке має тип {type(a)}\")\n",
    "\n",
    "#my_fun() # TypeError: my_fun() missing 1 required positional argument: 'a'\n",
    "my_fun(\"5\")\n",
    "my_fun(\"sdfs\")\n",
    "\n",
    "#\n",
    "\n"
   ]
  }
 ],
 "metadata": {
  "kernelspec": {
   "display_name": "Python 3",
   "language": "python",
   "name": "python3"
  },
  "language_info": {
   "codemirror_mode": {
    "name": "ipython",
    "version": 3
   },
   "file_extension": ".py",
   "mimetype": "text/x-python",
   "name": "python",
   "nbconvert_exporter": "python",
   "pygments_lexer": "ipython3",
   "version": "3.12.9"
  }
 },
 "nbformat": 4,
 "nbformat_minor": 5
}
